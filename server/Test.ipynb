{
 "cells": [
  {
   "cell_type": "code",
   "execution_count": 6,
   "metadata": {},
   "outputs": [],
   "source": [
    "import requests\n",
    "import json"
   ]
  },
  {
   "cell_type": "code",
   "execution_count": 7,
   "metadata": {},
   "outputs": [],
   "source": [
    "url = \"https://iam.cloud.ibm.com/identity/token\"\n",
    "\n",
    "payload = 'grant_type=urn%3Aibm%3Aparams%3Aoauth%3Agrant-type%3Aapikey&apikey=m7vxHJhdYh_kPIbil58axhwhG-shipMV3Q_1EsugkVzI'\n",
    "headers = {\n",
    "  'Content-Type': 'application/x-www-form-urlencoded',\n",
    "  'Accept': 'application/json'\n",
    "}\n"
   ]
  },
  {
   "cell_type": "code",
   "execution_count": 8,
   "metadata": {},
   "outputs": [
    {
     "name": "stdout",
     "output_type": "stream",
     "text": [
      "{\"access_token\":\"eyJraWQiOiIyMDI1MDEzMDA4NDQiLCJhbGciOiJSUzI1NiJ9.eyJpYW1faWQiOiJJQk1pZC02OTEwMDBNQTZaIiwiaWQiOiJJQk1pZC02OTEwMDBNQTZaIiwicmVhbG1pZCI6IklCTWlkIiwianRpIjoiNTc2NTk1ZmItZjA3OS00ZjMwLWE3NjMtNjU3MDdiNjc3YmIwIiwiaWRlbnRpZmllciI6IjY5MTAwME1BNloiLCJnaXZlbl9uYW1lIjoiR2FuZXNoIiwiZmFtaWx5X25hbWUiOiJTaXZha3VtYXIiLCJuYW1lIjoiR2FuZXNoIFNpdmFrdW1hciIsImVtYWlsIjoiZ2FuZXNoc2l2YWt1bWFyMTMwNDIwMDBAZ21haWwuY29tIiwic3ViIjoiZ2FuZXNoc2l2YWt1bWFyMTMwNDIwMDBAZ21haWwuY29tIiwiYXV0aG4iOnsic3ViIjoiZ2FuZXNoc2l2YWt1bWFyMTMwNDIwMDBAZ21haWwuY29tIiwiaWFtX2lkIjoiSUJNaWQtNjkxMDAwTUE2WiIsIm5hbWUiOiJHYW5lc2ggU2l2YWt1bWFyIiwiZ2l2ZW5fbmFtZSI6IkdhbmVzaCIsImZhbWlseV9uYW1lIjoiU2l2YWt1bWFyIiwiZW1haWwiOiJnYW5lc2hzaXZha3VtYXIxMzA0MjAwMEBnbWFpbC5jb20ifSwiYWNjb3VudCI6eyJ2YWxpZCI6dHJ1ZSwiYnNzIjoiMmJiNTIzYTY1OTFlNDVmZWE1NjljZTY1YzZmMTJlNWUiLCJpbXNfdXNlcl9pZCI6IjEzMzA2MDQ0IiwiZnJvemVuIjp0cnVlLCJpbXMiOiIyOTcxNTQwIn0sImlhdCI6MTc0MDI4ODg1NiwiZXhwIjoxNzQwMjkyNDU2LCJpc3MiOiJodHRwczovL2lhbS5jbG91ZC5pYm0uY29tL2lkZW50aXR5IiwiZ3JhbnRfdHlwZSI6InVybjppYm06cGFyYW1zOm9hdXRoOmdyYW50LXR5cGU6YXBpa2V5Iiwic2NvcGUiOiJpYm0gb3BlbmlkIiwiY2xpZW50X2lkIjoiZGVmYXVsdCIsImFjciI6MSwiYW1yIjpbInB3ZCJdfQ.hppNxpSeT0ehr0-rTlMiQuksk8460C0rkDTnkG1BZLBe80x6UQ9kje5yRJ5W5n8zvBRhqQod9kUkUQSPFJz-R3w3e4rTdZBbEGuCVsBMDBLFY-k2jIkTL-3go13Zu8ti02elo55_HPbHwDFGDkwPA2HsCC4ewANYBpv5sPPezExXdvg2XbGO5NWLhQx-AUR1EsDYxGqjX5OnRtR_GfLoXpIU2PuKHnUmxn4A5Kfpe-sYGrSbEhEg6Xl1_bIPWXf_S5ni3KybhfPK1ub4MzHnpf5Ik8YeKbM8oa_2siFsYcPmGmEvaoEUqh-GYtoqk0_zmx7WeS_f43n-a0nx5N0uhQ\",\"refresh_token\":\"not_supported\",\"ims_user_id\":13306044,\"token_type\":\"Bearer\",\"expires_in\":3600,\"expiration\":1740292456,\"scope\":\"ibm openid\"}\n"
     ]
    }
   ],
   "source": [
    "\n",
    "response = requests.request(\"POST\", url, headers=headers, data=payload)\n",
    "\n",
    "print(response.text)\n"
   ]
  },
  {
   "cell_type": "code",
   "execution_count": 13,
   "metadata": {},
   "outputs": [],
   "source": [
    "access_token = response.json()[\"access_token\"]"
   ]
  },
  {
   "cell_type": "code",
   "execution_count": null,
   "metadata": {},
   "outputs": [
    {
     "name": "stdout",
     "output_type": "stream",
     "text": [
      "{'model_id': 'ibm/granite-3-8b-instruct', 'model_version': '1.1.0', 'created_at': '2025-02-23T05:37:48.287Z', 'results': [{'generated_text': ' $2B\\n\\n', 'generated_token_count': 5, 'input_token_count': 611, 'stop_reason': 'max_tokens'}]}\n"
     ]
    }
   ],
   "source": [
    "\n",
    "url = \"https://us-south.ml.cloud.ibm.com/ml/v1/text/generation?version=2023-05-29\"\n",
    "\n",
    "payload = json.dumps({\n",
    "  \"input\": \"Extract the line of credit facility maximum borrowing capacity from the 10-K filing.\\n\\n10-K filing: The credit agreement also provides that up to $250 million in commitments may be used for letters of credit.\\nLine of credit facility maximum borrowing capacity: $250M\\n\\n10-K filing: In March 2021, we upsized the Credit Agreement by $50 million, which matures July 2023, to $1.725 billion.         \\nLine of credit facility maximum borrowing capacity: $1.725B\\n\\n10-K filing: We prepared our impairment test as of December 2022 and determined that the fair values of each of our reporting units exceeded net book value by more than 25%. Among our reporting units, the narrowest difference between the calculated fair value and net book value was in our Principal Markets segment’s Canada reporting unit, whose calculated fair value exceeded its net book value by 26.5%. Future developments related to macroeconomic factors, including increases to the discount rate used, or changes to other inputs and assumptions, including revenue growth, could reduce the fair value of this and/or other reporting units and lead to impairment. There were no goodwill impairment losses recorded for the nine months ended December 31, 2022. Cumulatively, the Company has recorded $234.5 million in goodwill impairment charges within its former EMEA ($146.5 million) and current United States ($88 million) reporting units. Revolving Credit Agreement In December 2021, we entered into a $2 billion multi-currency revolving credit agreement (the “Revolving Credit Agreement”) for our future liquidity needs. The Revolving Credit Agreement expires, unless extended, in October 2026. Interest rates on borrowings under the Revolving Credit Agreement are based on prevailing market interest rates, plus a margin, as further described in the Revolving Credit Agreement. The total expense recorded by the Company for the Revolving Credit Agreement was not material in any of the periods presented. We may voluntarily prepay borrowings under the Revolving Credit Agreement without premium or penalty, subject to customary “breakage” costs. The Revolving Credit Agreement includes certain customary mandatory prepayment provisions. Interest on Debt Interest expense for the three and nine months ended December 31, 2022 was $13.5 million and $32.5 million, compared to $9 million and $25 million for the three and nine months ended December 31, 2021. \\nLine of credit facility maximum borrowing capacity:\",\n",
    "  \"parameters\": {\n",
    "    \"decoding_method\": \"greedy\",\n",
    "    \"max_new_tokens\": 5,\n",
    "    \"min_new_tokens\": 1,\n",
    "    \"stop_sequences\": [],\n",
    "    \"repetition_penalty\": 1\n",
    "  },\n",
    "  \"model_id\": \"ibm/granite-3-8b-instruct\",\n",
    "  \"project_id\": \"37edc0e6-4917-4f07-b1ad-48736cf007c0\"\n",
    "})\n",
    "headers = {\n",
    "  'Content-Type': 'application/json',\n",
    "  'Authorization': 'Bearer '+access_token\n",
    "}\n",
    "\n",
    "response = requests.request(\"POST\", url, headers=headers, data=payload)"
   ]
  },
  {
   "cell_type": "code",
   "execution_count": 21,
   "metadata": {},
   "outputs": [
    {
     "data": {
      "text/plain": [
       "' $2B\\n\\n'"
      ]
     },
     "execution_count": 21,
     "metadata": {},
     "output_type": "execute_result"
    }
   ],
   "source": [
    "\n",
    "response.json()[\"results\"][0][\"generated_text\"]"
   ]
  },
  {
   "cell_type": "code",
   "execution_count": null,
   "metadata": {},
   "outputs": [],
   "source": []
  }
 ],
 "metadata": {
  "kernelspec": {
   "display_name": "Python 3",
   "language": "python",
   "name": "python3"
  },
  "language_info": {
   "codemirror_mode": {
    "name": "ipython",
    "version": 3
   },
   "file_extension": ".py",
   "mimetype": "text/x-python",
   "name": "python",
   "nbconvert_exporter": "python",
   "pygments_lexer": "ipython3",
   "version": "3.12.2"
  }
 },
 "nbformat": 4,
 "nbformat_minor": 2
}
