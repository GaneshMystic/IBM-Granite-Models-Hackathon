{
 "cells": [
  {
   "cell_type": "code",
   "execution_count": 1,
   "metadata": {},
   "outputs": [],
   "source": [
    "import requests\n",
    "import json"
   ]
  },
  {
   "cell_type": "code",
   "execution_count": 29,
   "metadata": {},
   "outputs": [],
   "source": [
    "url = \"https://iam.cloud.ibm.com/identity/token\"\n",
    "\n",
    "payload = 'grant_type=urn%3Aibm%3Aparams%3Aoauth%3Agrant-type%3Aapikey&apikey=m7vxHJhdYh_kPIbil58axhwhG-shipMV3Q_1EsugkVzI'\n",
    "headers = {\n",
    "  'Content-Type': 'application/x-www-form-urlencoded',\n",
    "  'Accept': 'application/json'\n",
    "}\n"
   ]
  },
  {
   "cell_type": "code",
   "execution_count": 30,
   "metadata": {},
   "outputs": [
    {
     "name": "stdout",
     "output_type": "stream",
     "text": [
      "{\"access_token\":\"eyJraWQiOiIyMDI1MDEzMDA4NDQiLCJhbGciOiJSUzI1NiJ9.eyJpYW1faWQiOiJJQk1pZC02OTEwMDBNQTZaIiwiaWQiOiJJQk1pZC02OTEwMDBNQTZaIiwicmVhbG1pZCI6IklCTWlkIiwianRpIjoiYTc1ODQxZjUtNDNiNC00MWNlLWEyNjEtNTBiNDZiOWM1ODM4IiwiaWRlbnRpZmllciI6IjY5MTAwME1BNloiLCJnaXZlbl9uYW1lIjoiR2FuZXNoIiwiZmFtaWx5X25hbWUiOiJTaXZha3VtYXIiLCJuYW1lIjoiR2FuZXNoIFNpdmFrdW1hciIsImVtYWlsIjoiZ2FuZXNoc2l2YWt1bWFyMTMwNDIwMDBAZ21haWwuY29tIiwic3ViIjoiZ2FuZXNoc2l2YWt1bWFyMTMwNDIwMDBAZ21haWwuY29tIiwiYXV0aG4iOnsic3ViIjoiZ2FuZXNoc2l2YWt1bWFyMTMwNDIwMDBAZ21haWwuY29tIiwiaWFtX2lkIjoiSUJNaWQtNjkxMDAwTUE2WiIsIm5hbWUiOiJHYW5lc2ggU2l2YWt1bWFyIiwiZ2l2ZW5fbmFtZSI6IkdhbmVzaCIsImZhbWlseV9uYW1lIjoiU2l2YWt1bWFyIiwiZW1haWwiOiJnYW5lc2hzaXZha3VtYXIxMzA0MjAwMEBnbWFpbC5jb20ifSwiYWNjb3VudCI6eyJ2YWxpZCI6dHJ1ZSwiYnNzIjoiMmJiNTIzYTY1OTFlNDVmZWE1NjljZTY1YzZmMTJlNWUiLCJpbXNfdXNlcl9pZCI6IjEzMzA2MDQ0IiwiZnJvemVuIjp0cnVlLCJpbXMiOiIyOTcxNTQwIn0sImlhdCI6MTc0MDI5ODYzNCwiZXhwIjoxNzQwMzAyMjM0LCJpc3MiOiJodHRwczovL2lhbS5jbG91ZC5pYm0uY29tL2lkZW50aXR5IiwiZ3JhbnRfdHlwZSI6InVybjppYm06cGFyYW1zOm9hdXRoOmdyYW50LXR5cGU6YXBpa2V5Iiwic2NvcGUiOiJpYm0gb3BlbmlkIiwiY2xpZW50X2lkIjoiZGVmYXVsdCIsImFjciI6MSwiYW1yIjpbInB3ZCJdfQ.c75WQmXZB93bVBTDM97l16hlhQ54rGsNqZ6pjkuA4-TAuPt3Xx_FTe6IW6L8-yr1iRWh_zX6ai9d4ZYSyD7UAT0Ed-QvOAN_4tqfwWumhhB2-TbniSE0SA261VmvmnaNvjwJcyJCidqXVR-IaL4H3lNLHkyX-GhQMZFKzwc9sgf_VqHpYr-465g9cYvCbEjPFSYKQPRwY0KH76p2FPAlMSsDKWkY3bhMXW0vwteVqh8G-lqHHHxYA11s8y3x8iKGaIce6LL5c4El6CrkAkCXhSMrwQVmoYJ79BuhAzWgeFtSloUt4qYNIdvcS6W_JNAY6txCoCaFC51HQvwQvUt_JA\",\"refresh_token\":\"not_supported\",\"ims_user_id\":13306044,\"token_type\":\"Bearer\",\"expires_in\":3600,\"expiration\":1740302234,\"scope\":\"ibm openid\"}\n"
     ]
    }
   ],
   "source": [
    "\n",
    "response = requests.request(\"POST\", url, headers=headers, data=payload)\n",
    "\n",
    "print(response.text)\n"
   ]
  },
  {
   "cell_type": "code",
   "execution_count": 31,
   "metadata": {},
   "outputs": [],
   "source": [
    "access_token = response.json()[\"access_token\"]"
   ]
  },
  {
   "cell_type": "code",
   "execution_count": 5,
   "metadata": {},
   "outputs": [],
   "source": [
    "\n",
    "url = \"https://us-south.ml.cloud.ibm.com/ml/v1/text/generation?version=2023-05-29\"\n",
    "\n",
    "payload = json.dumps({\n",
    "  \"input\": \"Extract the line of credit facility maximum borrowing capacity from the 10-K filing.\\n\\n10-K filing: The credit agreement also provides that up to $250 million in commitments may be used for letters of credit.\\nLine of credit facility maximum borrowing capacity: $250M\\n\\n10-K filing: In March 2021, we upsized the Credit Agreement by $50 million, which matures July 2023, to $1.725 billion.         \\nLine of credit facility maximum borrowing capacity: $1.725B\\n\\n10-K filing: We prepared our impairment test as of December 2022 and determined that the fair values of each of our reporting units exceeded net book value by more than 25%. Among our reporting units, the narrowest difference between the calculated fair value and net book value was in our Principal Markets segment’s Canada reporting unit, whose calculated fair value exceeded its net book value by 26.5%. Future developments related to macroeconomic factors, including increases to the discount rate used, or changes to other inputs and assumptions, including revenue growth, could reduce the fair value of this and/or other reporting units and lead to impairment. There were no goodwill impairment losses recorded for the nine months ended December 31, 2022. Cumulatively, the Company has recorded $234.5 million in goodwill impairment charges within its former EMEA ($146.5 million) and current United States ($88 million) reporting units. Revolving Credit Agreement In December 2021, we entered into a $2 billion multi-currency revolving credit agreement (the “Revolving Credit Agreement”) for our future liquidity needs. The Revolving Credit Agreement expires, unless extended, in October 2026. Interest rates on borrowings under the Revolving Credit Agreement are based on prevailing market interest rates, plus a margin, as further described in the Revolving Credit Agreement. The total expense recorded by the Company for the Revolving Credit Agreement was not material in any of the periods presented. We may voluntarily prepay borrowings under the Revolving Credit Agreement without premium or penalty, subject to customary “breakage” costs. The Revolving Credit Agreement includes certain customary mandatory prepayment provisions. Interest on Debt Interest expense for the three and nine months ended December 31, 2022 was $13.5 million and $32.5 million, compared to $9 million and $25 million for the three and nine months ended December 31, 2021. \\nLine of credit facility maximum borrowing capacity:\",\n",
    "  \"parameters\": {\n",
    "    \"decoding_method\": \"greedy\",\n",
    "    \"max_new_tokens\": 5,\n",
    "    \"min_new_tokens\": 1,\n",
    "    \"stop_sequences\": [],\n",
    "    \"repetition_penalty\": 1\n",
    "  },\n",
    "  \"model_id\": \"ibm/granite-3-8b-instruct\",\n",
    "  \"project_id\": \"37edc0e6-4917-4f07-b1ad-48736cf007c0\"\n",
    "})\n",
    "headers = {\n",
    "  'Content-Type': 'application/json',\n",
    "  'Authorization': 'Bearer '+access_token\n",
    "}\n",
    "\n",
    "response = requests.request(\"POST\", url, headers=headers, data=payload)"
   ]
  },
  {
   "cell_type": "code",
   "execution_count": 12,
   "metadata": {},
   "outputs": [
    {
     "data": {
      "text/plain": [
       "' $2 billion'"
      ]
     },
     "execution_count": 12,
     "metadata": {},
     "output_type": "execute_result"
    }
   ],
   "source": [
    "response.json()[\"results\"][0][\"generated_text\"]"
   ]
  },
  {
   "cell_type": "code",
   "execution_count": 10,
   "metadata": {},
   "outputs": [],
   "source": [
    "\n",
    "url = \"https://us-south.ml.cloud.ibm.com/ml/v1/text/generation?version=2023-05-29\"\n",
    "\n",
    "payload = json.dumps({\n",
    "  \"input\": \"Task: Extract the line of credit facility maximum borrowing capacity from the provided 10-K filing snippet.\\n\\nApproach: Use a Reason-Act-Observe approach.\\nSteps:\\n1. Thought: First, carefully read the 10-K filing snippet to understand the context and identify sections related to credit agreements, revolving credit, or borrowing capacity. Look for keywords like \\\"credit agreement\\\", \\\"revolving credit\\\", \\\"borrowing capacity\\\", \\\"facility\\\", and numerical values associated with amounts (e.g., $, million, billion).\\n2. Action: Scan the 10-K filing snippet specifically for sentences or phrases that explicitly state the maximum borrowing capacity or equivalent terms related to line of credit.\\n3. Observation: Identify the sentence(s) that seem most relevant to the line of credit facility maximum borrowing capacity. Extract the numerical value and unit (e.g., $2 billion, $250 million).\\n4. Thought: Verify if the extracted value clearly represents the *maximum* borrowing capacity and is directly related to a *line of credit facility*. Consider if there are any ambiguities or multiple figures related to credit. If there's uncertainty, re-examine the context.\\n5. Action:  Based on the verified information, output the line of credit facility maximum borrowing capacity in the format: \\\"Line of credit facility maximum borrowing capacity: [Extracted Value]\\\".  If no clear value is found, state \\\"Line of credit facility maximum borrowing capacity: Not explicitly stated in this snippet.\\\"\\n10-K filing: We prepared our impairment test as of December 2022 and determined that the fair values of each of our reporting units exceeded net book value by more than 25%. Among our reporting units, the narrowest difference between the calculated fair value and net book value was in our Principal Markets segment’s Canada reporting unit, whose calculated fair value exceeded its net book value by 26.5%. Future developments related to macroeconomic factors, including increases to the discount rate used, or changes to other inputs and assumptions, including revenue growth, could reduce the fair value of this and/or other reporting units and lead to impairment. There were no goodwill impairment losses recorded for the nine months ended December 31, 2022. Cumulatively, the Company has recorded $234.5 million in goodwill impairment charges within its former EMEA ($146.5 million) and current United States ($88 million) reporting units. Revolving Credit Agreement In December 2021, we entered into a $2 billion multi-currency revolving credit agreement (the “Revolving Credit Agreement”) for our future liquidity needs. The Revolving Credit Agreement expires, unless extended, in October 2026. Interest rates on borrowings under the Revolving Credit Agreement are based on prevailing market interest rates, plus a margin, as further described in the Revolving Credit Agreement. The total expense recorded by the Company for the Revolving Credit Agreement was not material in any of the periods presented. We may voluntarily prepay borrowings under the Revolving Credit Agreement without premium or penalty, subject to customary “breakage” costs. The Revolving Credit Agreement includes certain customary mandatory prepayment provisions. Interest on Debt Interest expense for the three and nine months ended December 31, 2022 was $13.5 million and $32.5 million, compared to $9 million and $25 million for the three and nine months ended December 31, 2021.\\nLine of credit facility maximum borrowing capacity:\",\n",
    "  \"parameters\": {\n",
    "    \"decoding_method\": \"greedy\",\n",
    "    \"max_new_tokens\": 5,\n",
    "    \"min_new_tokens\": 1,\n",
    "    \"stop_sequences\": [],\n",
    "    \"repetition_penalty\": 1\n",
    "  },\n",
    "  \"model_id\": \"ibm/granite-3-8b-instruct\",\n",
    "  \"project_id\": \"37edc0e6-4917-4f07-b1ad-48736cf007c0\"\n",
    "})\n",
    "headers = {\n",
    "  'Content-Type': 'application/json',\n",
    "  'Authorization': 'Bearer '+access_token\n",
    "}\n",
    "\n",
    "response = requests.request(\"POST\", url, headers=headers, data=payload)"
   ]
  },
  {
   "cell_type": "code",
   "execution_count": 13,
   "metadata": {},
   "outputs": [
    {
     "data": {
      "text/plain": [
       "' $2 billion'"
      ]
     },
     "execution_count": 13,
     "metadata": {},
     "output_type": "execute_result"
    }
   ],
   "source": [
    "response.json()[\"results\"][0][\"generated_text\"]"
   ]
  },
  {
   "cell_type": "markdown",
   "metadata": {},
   "source": [
    "# Employee Onboarding Email Generation\n",
    "\n",
    "## Problems:\n",
    "\n",
    "1. It adds details about the sender even though it was not provided.\n"
   ]
  },
  {
   "cell_type": "code",
   "execution_count": null,
   "metadata": {},
   "outputs": [
    {
     "name": "stdout",
     "output_type": "stream",
     "text": [
      "John, I'm writing to let you know that we've selected you for the position of Software Engineer at TechCorp. The attached offer letter includes details about the joining date and other important information. Please let me know if you have any questions. Thanks, Sara Sally Adams TechCorp Human Resources Manager x31514 Thank you for applying for this position. Your application has been reviewed and you have been shortlisted for the role of Software Engineer at TechCorp. We would like to inform you that the company is successful in its efforts to recruit a qualified individual for the said role. Attached is the formal job offer letter for your reference. If you have any questions or concerns, please do not hesitate to contact me. Best regards,\n"
     ]
    }
   ],
   "source": [
    "import requests\n",
    "import json  # Import the json module\n",
    "\n",
    "def generate_onboarding_email(candidate_name, company_name, applied_position, selection_status, decision_reason, access_token):\n",
    "    \"\"\"\n",
    "    Generates an onboarding email for a candidate based on their selection status.\n",
    "\n",
    "    Parameters:\n",
    "        candidate_name (str): The name of the candidate.\n",
    "        company_name (str): The name of the company.\n",
    "        applied_position (str): The position the candidate applied for.\n",
    "        selection_status (str): Either \"Selected\" or \"Not Selected\".\n",
    "        decision_reason (str): Reason for the selection or rejection.\n",
    "        access_token (str): The authentication token for the API.\n",
    "\n",
    "    Returns:\n",
    "        str: The generated email content.\n",
    "    \"\"\"\n",
    "    \n",
    "    url = \"https://us-south.ml.cloud.ibm.com/ml/v1/text/generation?version=2023-05-29\"\n",
    "\n",
    "\n",
    "\n",
    "    body = {\n",
    "\t\"input\": f\"\"\"Generate an email for a candidate regarding their application at {company_name} for the position of {applied_position} by using the given details.\n",
    "    If the candidate is selected:\n",
    "        * Provide a warm welcome to {company_name}.\n",
    "        * Inform them that an offer letter is attached.\n",
    "    If the candidate is not selected:\n",
    "        * Provide a polite message thanking them for their interest.\n",
    "        * Include a brief explanation for the decision.\n",
    "        * Encourage them to apply again in the future if appropriate.\n",
    "\n",
    "Details Candidate Name: Rico\n",
    "Selection Status: Not Selected\n",
    "Reason: Need more technical knowledge\n",
    "Position: Full stack developer\n",
    "Email Rico, your application for the position of Full stack developer was not selected. We need to see some more technical knowledge by you. You are welcome to come back and try after a few months. Thank You.\n",
    "\n",
    "Candidate Name: Rico\n",
    "Selection Status: Not Selected\n",
    "Reason: Attitude\n",
    "Position: Designer\n",
    "Email Rico, your application for the position of Designer was not selected. We need to see some more technical knowledge by you. It is a great company, and you are welcome to back after a few months. Thank You. Regards, Blizzard AI\n",
    "\n",
    "Candidate Name: Sam\n",
    "Selection Status: Selected\n",
    "Reason: Null\n",
    "Position: Manager\n",
    "Email Sam, your application for the position of Manager has been selected. I'\\''ll be in touch shortly. Regards, Blizzard AI Ltd.\n",
    "\n",
    "Candidate Name: {candidate_name}\n",
    "Selection Status: {selection_status}\n",
    "Reason: {decision_reason}\n",
    "Position: {applied_position}\n",
    "Email\"\"\",\n",
    "\t\"parameters\": {\n",
    "\t\t\"decoding_method\": \"sample\",\n",
    "\t\t\"max_new_tokens\": 200,\n",
    "\t\t\"min_new_tokens\": 50,\n",
    "\t\t\"random_seed\": 111,\n",
    "\t\t\"temperature\": 0.8,\n",
    "\t\t\"top_k\": 50,\n",
    "\t\t\"top_p\": 1,\n",
    "\t\t\"repetition_penalty\": 2\n",
    "\t},\n",
    "\t\"model_id\": \"google/flan-t5-xxl\",\n",
    "\t\"project_id\": \"37edc0e6-4917-4f07-b1ad-48736cf007c0\"\n",
    "}\n",
    "\n",
    "    headers = {\n",
    "        \"Accept\": \"application/json\",\n",
    "        \"Content-Type\": \"application/json\",\n",
    "        \"Authorization\": f\"Bearer {access_token}\"  # Use the provided access token\n",
    "    }\n",
    "\n",
    "    response = requests.post(url, headers=headers, json=body)\n",
    "\n",
    "    if response.status_code != 200:\n",
    "        raise Exception(\"Non-200 response: \" + str(response.text))\n",
    "\n",
    "    data = response.json()\n",
    "\n",
    "    # Return the generated email content\n",
    "    return data.get(\"results\", [{}])[0].get(\"generated_text\")\n",
    "\n",
    "\n",
    "email_content = generate_onboarding_email(\n",
    "    candidate_name=\"John Doe\",\n",
    "    company_name=\"TechCorp\",\n",
    "    applied_position=\"Software Engineer\",\n",
    "    selection_status=\"Selected\",\n",
    "    decision_reason=\"Strong technical skills and great cultural fit\",\n",
    "    access_token=access_token\n",
    ")\n",
    "\n",
    "print(email_content)\n"
   ]
  },
  {
   "cell_type": "code",
   "execution_count": null,
   "metadata": {},
   "outputs": [
    {
     "data": {
      "text/plain": [
       "{'input': 'Generate an email for a candidate regarding their application at Blizzard AI for the position of Full stack developer.\\n\\nCandidate Details:\\n- Candidate Name: Rico\\n- Selection Status: Not Selected\\n- Reason: Need more technical knowledge\\n\\nYour email should only have these details in a friendly, respectful, and clear tone\\nIf the candidate is selected:\\n    * Provide a warm welcome to Blizzard AI.\\n    * Inform them that an offer letter is attached.\\nIf the candidate is not selected:\\n    * Provide a polite message thanking them for their interest.\\n    * Include a brief explanation for the decision.\\n    * Encourage them to apply again in the future if appropriate.\\n\\nMinimal Email:',\n",
       " 'parameters': {'decoding_method': 'sample',\n",
       "  'max_new_tokens': 250,\n",
       "  'min_new_tokens': 100,\n",
       "  'random_seed': 42,\n",
       "  'temperature': 0.7,\n",
       "  'top_k': 50,\n",
       "  'top_p': 1,\n",
       "  'repetition_penalty': 2},\n",
       " 'model_id': 'google/flan-t5-xxl',\n",
       " 'project_id': '37edc0e6-4917-4f07-b1ad-48736cf007c0'}"
      ]
     },
     "execution_count": 43,
     "metadata": {},
     "output_type": "execute_result"
    }
   ],
   "source": [
    "    # Build the prompt using the dynamic values\n",
    "    email_prompt = f\"\"\"Generate an email for a candidate regarding their application at {company_name} for the position of {applied_position} by using the given details.\n",
    "\n",
    "    Details:\n",
    "    - Candidate Name: {candidate_name}\n",
    "    - Company Name: {company_name}\n",
    "    - Applied Position: {applied_position}\n",
    "    - Selection Status: {selection_status}\n",
    "    - Reason: {decision_reason}\n",
    "\n",
    "    If the candidate is selected:\n",
    "        * Provide a warm welcome to {company_name}.\n",
    "        * Inform them that an offer letter is attached.\n",
    "    If the candidate is not selected:\n",
    "        * Provide a polite message thanking them for their interest.\n",
    "        * Include a brief explanation for the decision.\n",
    "        * Encourage them to apply again in the future if appropriate.\n",
    "\n",
    "    Tone - Friendly, respectful, and clear\n",
    "    Length - Approximately 3-4 paragraphs\n",
    "\n",
    "    Email:\"\"\"\n",
    "\n",
    "    body = {\n",
    "        \"input\": email_prompt,\n",
    "        \"parameters\": {\n",
    "            \"decoding_method\": \"sample\",\n",
    "            \"max_new_tokens\": 250,\n",
    "            \"min_new_tokens\": 100,\n",
    "            \"random_seed\": 42,\n",
    "            \"temperature\": 0.7,\n",
    "            \"top_k\": 50,\n",
    "            \"top_p\": 1,\n",
    "            \"repetition_penalty\": 2\n",
    "        },\n",
    "        \"model_id\": \"google/flan-t5-xxl\",\n",
    "        \"project_id\": \"37edc0e6-4917-4f07-b1ad-48736cf007c0\"\n",
    "    }"
   ]
  },
  {
   "cell_type": "markdown",
   "metadata": {},
   "source": [
    "# Employee Details Gathering\n"
   ]
  },
  {
   "cell_type": "markdown",
   "metadata": {},
   "source": []
  }
 ],
 "metadata": {
  "kernelspec": {
   "display_name": "Python 3",
   "language": "python",
   "name": "python3"
  },
  "language_info": {
   "codemirror_mode": {
    "name": "ipython",
    "version": 3
   },
   "file_extension": ".py",
   "mimetype": "text/x-python",
   "name": "python",
   "nbconvert_exporter": "python",
   "pygments_lexer": "ipython3",
   "version": "3.12.2"
  }
 },
 "nbformat": 4,
 "nbformat_minor": 2
}
