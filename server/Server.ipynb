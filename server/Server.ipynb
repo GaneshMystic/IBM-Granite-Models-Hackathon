{
 "cells": [
  {
   "cell_type": "markdown",
   "metadata": {},
   "source": [
    "# Server\n"
   ]
  },
  {
   "cell_type": "code",
   "execution_count": 11,
   "metadata": {},
   "outputs": [
    {
     "name": "stdout",
     "output_type": "stream",
     "text": [
      " * Serving Flask app '__main__'\n",
      " * Debug mode: off\n"
     ]
    },
    {
     "name": "stderr",
     "output_type": "stream",
     "text": [
      "WARNING: This is a development server. Do not use it in a production deployment. Use a production WSGI server instead.\n",
      " * Running on http://127.0.0.1:5000\n",
      "Press CTRL+C to quit\n",
      "127.0.0.1 - - [23/Feb/2025 20:33:12] \"GET /feedback HTTP/1.1\" 404 -\n",
      "127.0.0.1 - - [23/Feb/2025 20:33:12] \"GET /favicon.ico HTTP/1.1\" 404 -\n",
      "127.0.0.1 - - [23/Feb/2025 20:33:15] \"GET /feedback HTTP/1.1\" 404 -\n",
      "127.0.0.1 - - [23/Feb/2025 20:33:15] \"GET /favicon.ico HTTP/1.1\" 404 -\n",
      "127.0.0.1 - - [23/Feb/2025 20:33:17] \"GET / HTTP/1.1\" 304 -\n",
      "127.0.0.1 - - [23/Feb/2025 20:33:17] \"GET /assets/index-CLWeipG6.js HTTP/1.1\" 304 -\n",
      "127.0.0.1 - - [23/Feb/2025 20:33:17] \"GET /assets/index-fy6MUsiV.css HTTP/1.1\" 304 -\n",
      "127.0.0.1 - - [23/Feb/2025 20:33:17] \"GET /vite.svg HTTP/1.1\" 304 -\n",
      "127.0.0.1 - - [23/Feb/2025 20:33:22] \"GET /assets/index-fy6MUsiV.css HTTP/1.1\" 304 -\n",
      "127.0.0.1 - - [23/Feb/2025 20:33:26] \"POST /api/chat HTTP/1.1\" 200 -\n",
      "127.0.0.1 - - [23/Feb/2025 20:34:03] \"GET / HTTP/1.1\" 304 -\n",
      "127.0.0.1 - - [23/Feb/2025 20:34:03] \"GET /assets/index-CLWeipG6.js HTTP/1.1\" 304 -\n",
      "127.0.0.1 - - [23/Feb/2025 20:34:03] \"GET /assets/index-fy6MUsiV.css HTTP/1.1\" 304 -\n",
      "127.0.0.1 - - [23/Feb/2025 20:34:06] \"GET / HTTP/1.1\" 200 -\n",
      "127.0.0.1 - - [23/Feb/2025 20:34:06] \"GET /assets/index-CLWeipG6.js HTTP/1.1\" 200 -\n",
      "127.0.0.1 - - [23/Feb/2025 20:34:06] \"GET /assets/index-fy6MUsiV.css HTTP/1.1\" 200 -\n",
      "127.0.0.1 - - [23/Feb/2025 20:34:06] \"GET /vite.svg HTTP/1.1\" 200 -\n",
      "127.0.0.1 - - [23/Feb/2025 20:34:25] \"POST /api/chat HTTP/1.1\" 200 -\n",
      "127.0.0.1 - - [23/Feb/2025 20:34:43] \"GET /chat HTTP/1.1\" 404 -\n",
      "127.0.0.1 - - [23/Feb/2025 20:35:14] \"GET /api/chat HTTP/1.1\" 404 -\n",
      "127.0.0.1 - - [23/Feb/2025 20:35:44] \"GET / HTTP/1.1\" 304 -\n",
      "127.0.0.1 - - [23/Feb/2025 20:35:44] \"GET /assets/index-CLWeipG6.js HTTP/1.1\" 304 -\n",
      "127.0.0.1 - - [23/Feb/2025 20:35:44] \"GET /assets/index-fy6MUsiV.css HTTP/1.1\" 304 -\n",
      "127.0.0.1 - - [23/Feb/2025 20:36:24] \"GET /api/chat HTTP/1.1\" 404 -\n",
      "127.0.0.1 - - [23/Feb/2025 20:36:37] \"GET /api/chat HTTP/1.1\" 404 -\n",
      "127.0.0.1 - - [23/Feb/2025 20:36:51] \"GET /api/chat HTTP/1.1\" 404 -\n",
      "127.0.0.1 - - [23/Feb/2025 20:36:51] \"GET /favicon.ico HTTP/1.1\" 404 -\n",
      "127.0.0.1 - - [23/Feb/2025 20:36:56] \"GET / HTTP/1.1\" 304 -\n",
      "127.0.0.1 - - [23/Feb/2025 20:36:56] \"GET /assets/index-CLWeipG6.js HTTP/1.1\" 304 -\n",
      "127.0.0.1 - - [23/Feb/2025 20:36:56] \"GET /assets/index-fy6MUsiV.css HTTP/1.1\" 304 -\n",
      "127.0.0.1 - - [23/Feb/2025 20:37:07] \"GET /api/chat HTTP/1.1\" 404 -\n"
     ]
    }
   ],
   "source": [
    "from flask import Flask, send_from_directory\n",
    "from ollama import Client\n",
    "from pydantic import BaseModel\n",
    "from flask_cors import CORS \n",
    "\n",
    "app = Flask(__name__, static_folder='dist', static_url_path='')\n",
    "CORS(app, resources={r\"/*\": {\"origins\": \"*\"}})  # Allow all origins for all routes\n",
    "\n",
    "@app.route('/')\n",
    "def serve():\n",
    "    return send_from_directory('dist', 'index.html')\n",
    "\n",
    "@app.route('/<path:path>')\n",
    "def serve_path(path):\n",
    "    return send_from_directory('dist', path)\n",
    "\n",
    "\n",
    "class Country(BaseModel):\n",
    "  name: str\n",
    "  capital: str\n",
    "  languages: list[str]\n",
    "\n",
    "\n",
    "client = Client(\n",
    "  host='https://puny-plums-take.loca.lt',\n",
    ")\n",
    "\n",
    "\n",
    "\n",
    "@app.route('/api/chat', methods=['POST'])\n",
    "def home():\n",
    "    \n",
    "    response = client.chat(\n",
    "    messages=[\n",
    "        {\n",
    "        'role': 'user',\n",
    "        'content': 'Tell me about Canada.',\n",
    "        }\n",
    "    ],\n",
    "    model='granite3.1-dense',\n",
    "    format=Country.model_json_schema(),\n",
    "    )\n",
    "    return response\n",
    "\n",
    "if __name__ == '__main__':\n",
    "    app.run()"
   ]
  },
  {
   "cell_type": "code",
   "execution_count": null,
   "metadata": {},
   "outputs": [],
   "source": []
  }
 ],
 "metadata": {
  "kernelspec": {
   "display_name": "Python 3",
   "language": "python",
   "name": "python3"
  },
  "language_info": {
   "codemirror_mode": {
    "name": "ipython",
    "version": 3
   },
   "file_extension": ".py",
   "mimetype": "text/x-python",
   "name": "python",
   "nbconvert_exporter": "python",
   "pygments_lexer": "ipython3",
   "version": "3.12.2"
  }
 },
 "nbformat": 4,
 "nbformat_minor": 2
}
