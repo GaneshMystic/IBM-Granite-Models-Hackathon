{
 "cells": [
  {
   "cell_type": "code",
   "execution_count": null,
   "metadata": {},
   "outputs": [],
   "source": [
    "import requests\n",
    "import json"
   ]
  },
  {
   "cell_type": "code",
   "execution_count": null,
   "metadata": {},
   "outputs": [],
   "source": [
    "\n",
    "url = \"https://us-south.ml.cloud.ibm.com/ml/v1/text/generation?version=2023-05-29\"\n",
    "\n",
    "payload = json.dumps({\n",
    "  \"input\": \"Extract the line of credit facility maximum borrowing capacity from the 10-K filing.\\n\\n10-K filing: The credit agreement also provides that up to $250 million in commitments may be used for letters of credit.\\nLine of credit facility maximum borrowing capacity: $250M\\n\\n10-K filing: In March 2021, we upsized the Credit Agreement by $50 million, which matures July 2023, to $1.725 billion.         \\nLine of credit facility maximum borrowing capacity: $1.725B\\n\\n10-K filing: We prepared our impairment test as of December 2022 and determined that the fair values of each of our reporting units exceeded net book value by more than 25%. Among our reporting units, the narrowest difference between the calculated fair value and net book value was in our Principal Markets segment’s Canada reporting unit, whose calculated fair value exceeded its net book value by 26.5%. Future developments related to macroeconomic factors, including increases to the discount rate used, or changes to other inputs and assumptions, including revenue growth, could reduce the fair value of this and/or other reporting units and lead to impairment. There were no goodwill impairment losses recorded for the nine months ended December 31, 2022. Cumulatively, the Company has recorded $234.5 million in goodwill impairment charges within its former EMEA ($146.5 million) and current United States ($88 million) reporting units. Revolving Credit Agreement In December 2021, we entered into a $2 billion multi-currency revolving credit agreement (the “Revolving Credit Agreement”) for our future liquidity needs. The Revolving Credit Agreement expires, unless extended, in October 2026. Interest rates on borrowings under the Revolving Credit Agreement are based on prevailing market interest rates, plus a margin, as further described in the Revolving Credit Agreement. The total expense recorded by the Company for the Revolving Credit Agreement was not material in any of the periods presented. We may voluntarily prepay borrowings under the Revolving Credit Agreement without premium or penalty, subject to customary “breakage” costs. The Revolving Credit Agreement includes certain customary mandatory prepayment provisions. Interest on Debt Interest expense for the three and nine months ended December 31, 2022 was $13.5 million and $32.5 million, compared to $9 million and $25 million for the three and nine months ended December 31, 2021. \\nLine of credit facility maximum borrowing capacity:\",\n",
    "  \"parameters\": {\n",
    "    \"decoding_method\": \"greedy\",\n",
    "    \"max_new_tokens\": 5,\n",
    "    \"min_new_tokens\": 1,\n",
    "    \"stop_sequences\": [],\n",
    "    \"repetition_penalty\": 1\n",
    "  },\n",
    "  \"model_id\": \"ibm/granite-3-8b-instruct\",\n",
    "  \"project_id\": \"37edc0e6-4917-4f07-b1ad-48736cf007c0\"\n",
    "})\n",
    "headers = {\n",
    "  'Content-Type': 'application/json',\n",
    "  'Authorization': 'Bearer '\n",
    "}\n",
    "\n",
    "response = requests.request(\"POST\", url, headers=headers, data=payload)\n",
    "\n",
    "print(response.text)"
   ]
  }
 ],
 "metadata": {
  "kernelspec": {
   "display_name": "Python 3",
   "language": "python",
   "name": "python3"
  },
  "language_info": {
   "name": "python",
   "version": "3.12.2"
  }
 },
 "nbformat": 4,
 "nbformat_minor": 2
}
